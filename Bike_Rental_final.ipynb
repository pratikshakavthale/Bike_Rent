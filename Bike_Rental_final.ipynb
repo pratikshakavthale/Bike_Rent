{
  "nbformat": 4,
  "nbformat_minor": 0,
  "metadata": {
    "colab": {
      "provenance": [],
      "collapsed_sections": []
    },
    "kernelspec": {
      "name": "python3",
      "display_name": "Python 3"
    },
    "language_info": {
      "name": "python"
    }
  },
  "cells": [
    {
      "cell_type": "code",
      "execution_count": null,
      "metadata": {
        "id": "hpt9J9b6dwRv"
      },
      "outputs": [],
      "source": [
        "class BikeRental():\n",
        "  stock=100\n",
        "  def __init__(self):\n",
        "    print(\"Welcome to rental bike shop.\")\n",
        "  def displaystock(self):#to display stock available in shop.\n",
        "    print(self.stock)\n",
        "\n",
        "\n",
        "class Customer(BikeRental):\n",
        "  bill=0  #initialize bill as zero for update it later \n",
        "  \n",
        "  def __init__(self,number_of_bikes,rentalBasis,number_of_days_or_weeks):\n",
        "    super().__init__() #it acces methods of other class.\n",
        "    self.number_of_bikes=number_of_bikes \n",
        "    self.rentalBasis=rentalBasis\n",
        "    self.number_of_days_or_weeks=number_of_days_or_weeks\n",
        "  \n",
        "  def rentalBike(self):\n",
        "    if self.number_of_bikes <=0:\n",
        "      print( \"Number of bikes should be positive!\")\n",
        "    elif self.stock > self.number_of_bikes:\n",
        "      print('Number of bikes avaliable are:',self.stock)\n",
        "      self.stock= self.stock - self.number_of_bikes \n",
        "      print('upgraded Stock',self.stock)\n",
        "    else:\n",
        "      print('Total stock available is :',self.stock)\n",
        "  \n",
        "  \n",
        "  def returnBike(self):\n",
        "    \n",
        "    if self.rentalBasis=='day':\n",
        "      self.bill=((self.bill+100)*self.number_of_bikes)*self.number_of_days_or_weeks\n",
        "    \n",
        "    elif self.rentalBasis=='week':\n",
        "      self.bill+=((self.bill+500)*self.number_of_bikes)*self.number_of_days_or_weeks  \n",
        "\n",
        "    if 3<=self.number_of_bikes <=5:\n",
        "      self.bill=self.bill-((30*self.bill)/100)\n",
        "      print('Your Total Bill is :',self.bill)\n",
        "      print(\"You are eligible for Family rental promotion of 30% discount\")\n",
        "    \n",
        "    else:  \n",
        "      print('Your Total Bill is :',self.bill)\n",
        "          \n",
        "\n"
      ]
    },
    {
      "cell_type": "code",
      "source": [
        "#example 1 \n",
        "\n",
        "customer_8 = Customer(1,'day',3)\n",
        "customer_8.rentalBike()\n",
        "customer_8.returnBike()"
      ],
      "metadata": {
        "id": "xeQV_FSRd7pS",
        "colab": {
          "base_uri": "https://localhost:8080/"
        },
        "outputId": "7a1d90b5-41de-40ab-82fa-0eeb312e1729"
      },
      "execution_count": null,
      "outputs": [
        {
          "output_type": "stream",
          "name": "stdout",
          "text": [
            "Welcome to rental bike shop.\n",
            "Number of bikes avaliable are: 100\n",
            "upgraded Stock 99\n",
            "Your Total Bill is : 300\n"
          ]
        }
      ]
    },
    {
      "cell_type": "code",
      "source": [
        "#example 2\n",
        "\n",
        "customer_7 = Customer(-5,'week',3)\n",
        "customer_7.rentalBike()"
      ],
      "metadata": {
        "colab": {
          "base_uri": "https://localhost:8080/"
        },
        "id": "efXcPIipr2ZY",
        "outputId": "0244240e-2f02-4fae-ff59-a5c84f1685d1"
      },
      "execution_count": null,
      "outputs": [
        {
          "output_type": "stream",
          "name": "stdout",
          "text": [
            "Welcome to rental bike shop.\n",
            "Number of bikes should be positive!\n"
          ]
        }
      ]
    },
    {
      "cell_type": "code",
      "source": [
        "#example 3\n",
        "\n",
        "customer_6 = Customer(0,'week',3)\n",
        "customer_6.rentalBike()\n",
        "customer_6.returnBike()"
      ],
      "metadata": {
        "colab": {
          "base_uri": "https://localhost:8080/"
        },
        "id": "kxQcO2z8r7Us",
        "outputId": "a3f141b8-3b50-4bf7-bb3f-698ec9ef0b1e"
      },
      "execution_count": null,
      "outputs": [
        {
          "output_type": "stream",
          "name": "stdout",
          "text": [
            "Welcome to rental bike shop.\n",
            "Number of bikes should be positive!\n",
            "Your Total Bill is : 0\n"
          ]
        }
      ]
    },
    {
      "cell_type": "code",
      "source": [],
      "metadata": {
        "id": "ycr0UWBAsONp"
      },
      "execution_count": null,
      "outputs": []
    }
  ]
}